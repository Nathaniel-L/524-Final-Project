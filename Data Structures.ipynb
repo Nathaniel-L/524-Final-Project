{
 "cells": [
  {
   "cell_type": "code",
   "execution_count": 2,
   "metadata": {},
   "outputs": [
    {
     "name": "stdout",
     "output_type": "stream",
     "text": [
      "n = 2×6 Named Array{Float64,2}\n",
      "  A ╲ B │    1     2     3     4     5     6\n",
      "────────┼───────────────────────────────────\n",
      "Celtics │  4.0   5.0   6.0   7.0   8.0   9.0\n",
      "Bucks   │ 11.0  12.0  13.0  14.0  15.0  16.0\n"
     ]
    }
   ],
   "source": [
    "using NamedArrays\n",
    "n = NamedArray(rand(2,6))\n",
    "\n",
    "setnames!(n, [\"Celtics\", \"Bucks\"], 1)         # give the names \"one\" and \"two\" to the rows (dimension 1)\n",
    "n[\"Celtics\", 2:3]\n",
    "n[\"Bucks\", :] = 11:16\n",
    "n[Not(\"Bucks\"), :] = 4:9                      # all rows but the one called \"two\"\n",
    "\n",
    "@show n;"
   ]
  },
  {
   "cell_type": "code",
   "execution_count": 56,
   "metadata": {},
   "outputs": [
    {
     "name": "stdout",
     "output_type": "stream",
     "text": [
      "627×7 DataFrames.DataFrame. Omitted printing of 3 columns\n",
      "│ Row │ Starter (=1) │ FULL NAME        │ TEAM    │ POS     │\n",
      "├─────┼──────────────┼──────────────────┼─────────┼─────────┤\n",
      "│ 1   │ \u001b[90mmissing\u001b[39m      │ \u001b[90mmissing\u001b[39m          │ \u001b[90mmissing\u001b[39m │ \u001b[90mmissing\u001b[39m │\n",
      "│ 2   │ 1            │ Dewayne Dedmon   │ Atl     │ C       │\n",
      "│ 3   │ \u001b[90mmissing\u001b[39m      │ Isaac Humphries  │ Atl     │ C       │\n",
      "│ 4   │ \u001b[90mmissing\u001b[39m      │ Alex Len         │ Atl     │ C       │\n",
      "│ 5   │ \u001b[90mmissing\u001b[39m      │ Miles Plumlee    │ Atl     │ C       │\n",
      "│ 6   │ \u001b[90mmissing\u001b[39m      │ Tyler Zeller     │ Atl     │ C       │\n",
      "│ 7   │ \u001b[90mmissing\u001b[39m      │ Deyonta Davis    │ Atl     │ C       │\n",
      "│ 8   │ \u001b[90mmissing\u001b[39m      │ DeAndre' Bembry  │ Atl     │ F       │\n",
      "⋮\n",
      "│ 619 │ \u001b[90mmissing\u001b[39m      │ Ron Baker        │ Was     │ G       │\n",
      "│ 620 │ 1            │ Bradley Beal     │ Was     │ G       │\n",
      "│ 621 │ \u001b[90mmissing\u001b[39m      │ Jordan McRae     │ Was     │ G       │\n",
      "│ 622 │ \u001b[90mmissing\u001b[39m      │ Gary Payton II   │ Was     │ G       │\n",
      "│ 623 │ \u001b[90mmissing\u001b[39m      │ Chasson Randle   │ Was     │ G       │\n",
      "│ 624 │ \u001b[90mmissing\u001b[39m      │ Austin Rivers    │ Was     │ G       │\n",
      "│ 625 │ 1            │ John Wall        │ Was     │ G       │\n",
      "│ 626 │ \u001b[90mmissing\u001b[39m      │ Tomas Satoransky │ Was     │ G-F     │\n",
      "│ 627 │ \u001b[90mmissing\u001b[39m      │ \u001b[90mmissing\u001b[39m          │ \u001b[90mmissing\u001b[39m │ \u001b[90mmissing\u001b[39m │\n"
     ]
    }
   ],
   "source": [
    "using CSV, NamedArrays\n",
    "L = CSV.read(\"FBStats.csv\")\n",
    "println(L)"
   ]
  },
  {
   "cell_type": "code",
   "execution_count": 57,
   "metadata": {
    "scrolled": false
   },
   "outputs": [],
   "source": [
    "function fCenter(i)\n",
    "    if (length(c) == 0)\n",
    "        push!(c, i)\n",
    "    elseif ((L[c[1],5] - L[c[1], 6]) < (L[i, 5] - L[i, 6]))\n",
    "        c[1] = i\n",
    "    end\n",
    "end\n",
    "\n",
    "function fForward(i)\n",
    "    if (length(f) == 0)\n",
    "        push!(f, i)\n",
    "    elseif ((L[f[1],5] - L[f[1], 6]) <= (L[i, 5] - L[i, 6]))\n",
    "        if length(f) != 1\n",
    "            pop!(f)\n",
    "        end\n",
    "        unshift!(f, i)\n",
    "    elseif (length(f) == 1)\n",
    "        push!(f, i)\n",
    "    elseif ((L[f[2],5] - L[f[2], 6]) < (L[i, 5] - L[i, 6]))\n",
    "        pop!(f)\n",
    "        push!(f, i)\n",
    "    end\n",
    "end\n",
    "\n",
    "function fGuard(i)\n",
    "    if (length(g) == 0)\n",
    "        push!(g, i)\n",
    "    elseif ((L[g[1],5] - L[g[1], 6]) <= (L[i, 5] - L[i, 6]))\n",
    "        if length(g) != 1\n",
    "            pop!(g)\n",
    "        end\n",
    "        unshift!(g, i)\n",
    "    elseif (length(g) == 1)\n",
    "        push!(g, i)\n",
    "    elseif ((L[g[2],5] - L[g[2], 6]) < (L[i, 5] - L[i, 6]))\n",
    "        pop!(g)\n",
    "        push!(g, i)\n",
    "    end\n",
    "end\n",
    "\n",
    "c = Int64[]\n",
    "f = Int64[]\n",
    "g = Int64[]\n",
    "team = 1\n",
    "bench = Array{String}(30,5)\n",
    "for i in 2:627\n",
    "    if (typeof(L[i, 7]) == Missings.Missing)\n",
    "        if (typeof(L[i,1]) == Missings.Missing)\n",
    "            if (L[i,4][1] == 'C')\n",
    "                fCenter(i)\n",
    "                continue\n",
    "            end\n",
    "            if (L[i,4][1] == 'G')\n",
    "                fGuard(i)\n",
    "                continue\n",
    "            end\n",
    "            if (length(L[i,4]) == 3)\n",
    "                if (L[i,4][3] == 'C')\n",
    "                    fCenter(i)\n",
    "                    continue\n",
    "                end\n",
    "                if (L[i,4][3] == 'F')\n",
    "                    fForward(i)\n",
    "                    continue\n",
    "                end\n",
    "                if (L[i,4][3] == 'G')\n",
    "                    fGuard(i)\n",
    "                    continue\n",
    "                end\n",
    "            end\n",
    "            if (L[i,4][1] == 'F')\n",
    "                fForward(i)\n",
    "                continue\n",
    "            end\n",
    "        end\n",
    "    else\n",
    "        bench[team, 1] = L[c[1], 2]\n",
    "        bench[team, 2] = L[f[1], 2]\n",
    "        bench[team, 3] = L[f[2], 2]\n",
    "        bench[team, 4] = L[g[1], 2]\n",
    "        bench[team, 5] = L[g[2], 2]\n",
    "        team = team + 1\n",
    "        c = Int64[]\n",
    "        f = Int64[]\n",
    "        g = Int64[]\n",
    "    end\n",
    "end"
   ]
  },
  {
   "cell_type": "code",
   "execution_count": 58,
   "metadata": {},
   "outputs": [
    {
     "name": "stdout",
     "output_type": "stream",
     "text": [
      "5-element Named Array{String,1}\n",
      "B  │ \n",
      "───┼─────────────────\n",
      "1  │ \"Richaun Holmes\"\n",
      "2  │  \"Emanuel Terry\"\n",
      "3  │   \"Ray Spalding\"\n",
      "4  │  \"Tyler Johnson\"\n",
      "5  │   \"Troy Daniels\""
     ]
    }
   ],
   "source": [
    "a = NamedArray(bench)\n",
    "show(a[24,:]) #24"
   ]
  },
  {
   "cell_type": "code",
   "execution_count": 305,
   "metadata": {},
   "outputs": [
    {
     "name": "stdout",
     "output_type": "stream",
     "text": [
      "331×7 DataFrames.DataFrame. Omitted printing of 5 columns\n",
      "│ Row │ Starter (=1) │ FULL NAME        │\n",
      "├─────┼──────────────┼──────────────────┤\n",
      "│ 1   │ \u001b[90mmissing\u001b[39m      │ \u001b[90mmissing\u001b[39m          │\n",
      "│ 2   │ 1            │ Dewayne Dedmon   │\n",
      "│ 3   │ 1            │ Taurean Prince   │\n",
      "│ 4   │ 1            │ John Collins     │\n",
      "│ 5   │ 1            │ Kent Bazemore    │\n",
      "│ 6   │ 1            │ Trae Young       │\n",
      "│ 7   │ \u001b[90mmissing\u001b[39m      │ Deyonta Davis    │\n",
      "│ 8   │ \u001b[90mmissing\u001b[39m      │ BJ Johnson       │\n",
      "⋮\n",
      "│ 323 │ 1            │ Otto Porter Jr.  │\n",
      "│ 324 │ 1            │ Bradley Beal     │\n",
      "│ 325 │ 1            │ John Wall        │\n",
      "│ 326 │ \u001b[90mmissing\u001b[39m      │ Thomas Bryant    │\n",
      "│ 327 │ \u001b[90mmissing\u001b[39m      │ Jeff Green       │\n",
      "│ 328 │ \u001b[90mmissing\u001b[39m      │ Devin Robinson   │\n",
      "│ 329 │ \u001b[90mmissing\u001b[39m      │ Gary Payton II   │\n",
      "│ 330 │ \u001b[90mmissing\u001b[39m      │ Tomas Satoransky │\n",
      "│ 331 │ \u001b[90mmissing\u001b[39m      │ \u001b[90mmissing\u001b[39m          │\n",
      "601×4 DataFrames.DataFrame\n",
      "│ Row │ Rk  │ Player             │           │ 2018-19   │\n",
      "├─────┼─────┼────────────────────┼───────────┼───────────┤\n",
      "│ 1   │ 1   │ Stephen Curry      │ curryst01 │ 3.74572e7 │\n",
      "│ 2   │ 2   │ LeBron James       │ jamesle01 │ 3.56542e7 │\n",
      "│ 3   │ 3   │ Russell Westbrook  │ westbru01 │ 3.56542e7 │\n",
      "│ 4   │ 4   │ Chris Paul         │ paulch01  │ 3.56542e7 │\n",
      "│ 5   │ 5   │ Blake Griffin      │ griffbl01 │ 3.20889e7 │\n",
      "│ 6   │ 6   │ Gordon Hayward     │ haywago01 │ 3.12143e7 │\n",
      "│ 7   │ 7   │ Kyle Lowry         │ lowryky01 │ 3.12e7    │\n",
      "│ 8   │ 8   │ Paul George        │ georgpa01 │ 3.05607e7 │\n",
      "⋮\n",
      "│ 593 │ 593 │ Alex Poythress     │ n         │ 77250.0   │\n",
      "│ 594 │ 594 │ Johnathan Motley   │ n         │ 79568.0   │\n",
      "│ 595 │ 595 │ Johnathan Williams │ n         │ 127250.0  │\n",
      "│ 596 │ 596 │ Devin Robinson     │ n         │ 77250.0   │\n",
      "│ 597 │ 597 │ RJ Hunter          │ n         │ 77250.0   │\n",
      "│ 598 │ 598 │ Alex Caruso        │ n         │ 2.75e6    │\n",
      "│ 599 │ 599 │ Kadeem Allen       │ n         │ 77250.0   │\n",
      "│ 600 │ 600 │ Jordan Loyd        │ n         │ 77250.0   │\n",
      "│ 601 │ 601 │ Kalin Lucas        │ n         │ 648000.0  │\n"
     ]
    }
   ],
   "source": [
    "D = CSV.read(\"TrueDataSet.csv\")\n",
    "println(D)\n",
    "S = CSV.read(\"Salary.csv\")\n",
    "println(S)"
   ]
  },
  {
   "cell_type": "code",
   "execution_count": 289,
   "metadata": {},
   "outputs": [
    {
     "name": "stdout",
     "output_type": "stream",
     "text": [
      "30×5 Named Array{Float64,2}\n",
      "    A ╲ B │ Starter OffR    Bench OffR  …    Bench DefR      Constant\n",
      "──────────┼──────────────────────────────────────────────────────────\n",
      "Atlanta   │        549.7         588.6  …         536.0           1.0\n",
      "Boston    │        566.2         630.5            488.7           1.0\n",
      "Brooklyn  │        540.1         611.5            493.1           1.0\n",
      "Cha       │        574.8         567.6            527.2           1.0\n",
      "Chi       │        526.9         570.8            529.3           1.0\n",
      "Clevland  │        550.8         577.0            537.6           1.0\n",
      "Dallas    │        539.9         607.9            528.8           1.0\n",
      "Denver    │        555.6         591.7            517.8           1.0\n",
      "Detroit   │        543.2         603.1            478.8           1.0\n",
      "⋮                      ⋮             ⋮  ⋱             ⋮             ⋮\n",
      "Orlando   │        556.7         608.6            492.5           1.0\n",
      "Phi       │        528.2         635.8            513.0           1.0\n",
      "Pho       │        515.2         552.1            511.9           1.0\n",
      "Por       │        584.1         600.9            519.7           1.0\n",
      "Sac       │        544.8         551.7            500.8           1.0\n",
      "San       │        570.9         606.3            529.4           1.0\n",
      "Tor       │        564.7         611.6            492.0           1.0\n",
      "Uta       │        578.7         579.6            494.3           1.0\n",
      "Was       │        550.3         629.8  …         530.1           1.0"
     ]
    }
   ],
   "source": [
    "d = Array{Union{Float64}, 2}(30, 5)\n",
    "n = 0\n",
    "for i in 1:30\n",
    "    d[i,1] = sum(D[2+n:6+n,3])\n",
    "    d[i,2] = sum(D[7+n:11+n,3])\n",
    "\n",
    "    d[i,3] = sum(D[2+n:6+n,4])\n",
    "    d[i,4] = sum(D[7+n:11+n,4])\n",
    "    n = n + 11\n",
    "end\n",
    "\n",
    "d[:,5] = 1 # Set constant for each team (W_0)\n",
    "\n",
    "nd = NamedArray(d)\n",
    "setnames!(nd, [\"Atlanta\", \"Boston\", \"Brooklyn\", \"Cha\", \"Chi\", \"Clevland\", \"Dallas\", \"Denver\", \"Detroit\", \"Gol\", \"Houston\", \n",
    "        \"Ind\", \"LaC\", \"LaL\", \"Memphis\", \"Miami\", \"Milwaukee\", \"Minnesota\", \"Nor\", \"Nyk\", \"Okc\", \"Orlando\", \"Phi\", \"Pho\", \"Por\", \"Sac\", \"San\", \"Tor\", \"Uta\", \"Was\"], 1)\n",
    "setnames!(nd, [\"Starter OffR\", \"Bench OffR\", \"Starter DefR\", \"Bench DefR\", \"Constant\"], 2)\n",
    "show(nd)"
   ]
  },
  {
   "cell_type": "code",
   "execution_count": 306,
   "metadata": {},
   "outputs": [],
   "source": [
    "pRost = Array{Union{String, Float64}, 2}(300, 4)\n",
    "n = 1\n",
    "for nl in 1:11\n",
    "    for i in nl:11:330\n",
    "        if (typeof(D[i, 2]) != Missings.Missing)\n",
    "            for j in 1:3\n",
    "                pRost[n, j] = D[i, j + 1]\n",
    "            end\n",
    "            n += 1\n",
    "        end\n",
    "    end\n",
    "end\n",
    "for i in 1:601\n",
    "    for j in 1:300\n",
    "        if (S[i, 2] == pRost[j, 1])\n",
    "            pRost[j, 4] = S[i, 4]\n",
    "        end\n",
    "    end\n",
    "end"
   ]
  },
  {
   "cell_type": "code",
   "execution_count": 316,
   "metadata": {},
   "outputs": [
    {
     "name": "stdout",
     "output_type": "stream",
     "text": [
      "300×4 Named Array{Union{Float64, String},2}\n",
      "A ╲ B │             Player  …              Salary\n",
      "──────┼──────────────────────────────────────────\n",
      "1     │   \"Dewayne Dedmon\"  …               7.2e6\n",
      "2     │       \"Al Horford\"              2.89287e7\n",
      "3     │    \"Jarrett Allen\"              2.03412e6\n",
      "4     │      \"Cody Zeller\"              1.35281e7\n",
      "5     │      \"Robin Lopez\"              1.43578e7\n",
      "6     │       \"Kevin Love\"               2.4119e7\n",
      "7     │   \"DeAndre Jordan\"                 2.29e7\n",
      "8     │     \"Nikola Jokic\"              2.46052e7\n",
      "9     │   \"Andre Drummond\"              2.54343e7\n",
      "⋮                        ⋮  ⋱                   ⋮\n",
      "292   │     \"Jerian Grant\"              2.63931e6\n",
      "293   │    \"Landry Shamet\"              1.70364e6\n",
      "294   │    \"Tyler Johnson\"              1.92454e7\n",
      "295   │      \"Rodney Hood\"              3.47289e6\n",
      "296   │     \"Corey Brewer\"               270496.0\n",
      "297   │      \"Patty Mills\"              1.15714e7\n",
      "298   │      \"Jodie Meeks\"               122953.0\n",
      "299   │      \"Kyle Korver\"                 7.56e6\n",
      "300   │ \"Tomas Satoransky\"  …           3.12919e6"
     ]
    }
   ],
   "source": [
    "#println(pRost)\n",
    "pn = NamedArray(pRost)\n",
    "setnames!(pn, [\"Player\", \"OffR\", \"DefR\", \"Salary\"], 2)\n",
    "show(pn)"
   ]
  },
  {
   "cell_type": "code",
   "execution_count": null,
   "metadata": {},
   "outputs": [],
   "source": [
    "#Jalen Jones, Marcus Derrickson, Isaiah Hicks, Amile Jefferson, Alex Poythress, Johnathan Motley, Johnathan Williams, Devin Robinson\n",
    "#RJ Hunter, alex caruso, kadeem allen, Jordan Loyd, kalin lucas"
   ]
  }
 ],
 "metadata": {
  "kernelspec": {
   "display_name": "Julia 0.6.4",
   "language": "julia",
   "name": "julia-0.6"
  },
  "language_info": {
   "file_extension": ".jl",
   "mimetype": "application/julia",
   "name": "julia",
   "version": "0.6.4"
  }
 },
 "nbformat": 4,
 "nbformat_minor": 2
}
